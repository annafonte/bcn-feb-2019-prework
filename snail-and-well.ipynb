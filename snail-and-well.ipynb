{
 "cells": [
  {
   "cell_type": "markdown",
   "metadata": {},
   "source": [
    "# Snail and well\n",
    "\n",
    "A snail falls at the bottom of a 125 cm well. Each day the snail rises 30 cm. But at night, while sleeping, slides 20 cm because the walls are wet. How many days does it take to escape from the well?\n",
    "\n",
    "TIP: http://puzzles.nigelcoldwell.co.uk/sixtytwo.htm"
   ]
  },
  {
   "cell_type": "markdown",
   "metadata": {},
   "source": [
    "## Solución"
   ]
  },
  {
   "cell_type": "code",
   "execution_count": 39,
   "metadata": {},
   "outputs": [
    {
     "name": "stdout",
     "output_type": "stream",
     "text": [
      "1 day gone\n",
      "2 days gone\n",
      "3 days gone\n",
      "4 days gone\n",
      "5 days gone\n",
      "6 days gone\n",
      "7 days gone\n",
      "8 days gone\n",
      "9 days gone\n",
      "10 days gone\n",
      "11 days and the snail escapes the well\n"
     ]
    }
   ],
   "source": [
    "# Assign problem data to variables with representative names\n",
    "# well height, daily advance, night retreat, accumulated distance\n",
    "# Assign 0 to the variable that represents the solution\n",
    "well_height = 125\n",
    "daily_distance = 30\n",
    "nightly_retreat = 20\n",
    "accumulated_distance = 0\n",
    "notEscaped = True\n",
    "days = 1\n",
    "\n",
    "# Write the code that solves the problem\n",
    "totaldistance = daily_distance - nightly_retreat  \n",
    "\n",
    "while accumulated_distance < well_height - daily_distance:  \n",
    "    if days <= 1:\n",
    "        print(str(days) + \" day gone\")\n",
    "    else:\n",
    "        print(str(days) + \" days gone\")\n",
    "    accumulated_distance += totaldistance\n",
    "    if accumulated_distance < well_height:\n",
    "        days += 1\n",
    "print(str(days) + \" days and the snail escapes the well\") \n",
    "\n",
    "# Print the result\n",
    "\n"
   ]
  },
  {
   "cell_type": "markdown",
   "metadata": {},
   "source": [
    "## Goals\n",
    "\n",
    "1. Treatment of variables\n",
    "2. Use of loop **while**\n",
    "3. Use of conditional **if-else**\n",
    "4. Print in console"
   ]
  },
  {
   "cell_type": "markdown",
   "metadata": {},
   "source": [
    "## Bonus\n",
    "The distance traveled by the snail is now defined by a list.\n",
    "```\n",
    "advance_cm = [30, 21, 33, 77, 44, 45, 23, 45, 12, 34, 55]\n",
    "```\n",
    "How long does it take to raise the well?\n",
    "\n",
    "What is its maximum displacement in one day? And its minimum?\n",
    "\n",
    "What is its average speed during the day?\n",
    "\n",
    "What is the standard deviation of its displacement during the day?"
   ]
  },
  {
   "cell_type": "code",
   "execution_count": 38,
   "metadata": {},
   "outputs": [
    {
     "name": "stdout",
     "output_type": "stream",
     "text": [
      "It takes 11 days to raise the well\n",
      "The maximum displacement in one day is 77\n",
      "The minumum displacement in one day is 12\n",
      "The average speed during the day is 38.09090909090909\n",
      "The standard deviation of the displacement during the day is 17.996969441850734\n"
     ]
    }
   ],
   "source": [
    "advance_cm = [30, 21, 33, 77, 44, 45, 23, 45, 12, 34, 55]\n",
    "\n",
    "# How long does it take to raise the well?\n",
    "print (\"It takes\", len(advance_cm), \"days to raise the well\")\n",
    "\n",
    "# What is its maximum displacement in one day? And its minimum?\n",
    "print(\"The maximum displacement in one day is\", max(advance_cm))\n",
    "print(\"The minumum displacement in one day is\", min(advance_cm))\n",
    "\n",
    "# What is its average speed during the day?\n",
    "num = sum(advance_cm)\n",
    "den = len(advance_cm)\n",
    "avg = num/den\n",
    "print (\"The average speed during the day is\", (avg))\n",
    "\n",
    "# What is the standard deviation of its displacement during the day?\n",
    "import statistics\n",
    "data=advance_cm\n",
    "\n",
    "res_std=statistics.stdev(advance_cm)\n",
    "print (\"The standard deviation of the displacement during the day is\", (res_std))\n"
   ]
  },
  {
   "cell_type": "code",
   "execution_count": null,
   "metadata": {},
   "outputs": [],
   "source": []
  }
 ],
 "metadata": {
  "kernelspec": {
   "display_name": "Python 3",
   "language": "python",
   "name": "python3"
  },
  "language_info": {
   "codemirror_mode": {
    "name": "ipython",
    "version": 3
   },
   "file_extension": ".py",
   "mimetype": "text/x-python",
   "name": "python",
   "nbconvert_exporter": "python",
   "pygments_lexer": "ipython3",
   "version": "3.8.5"
  }
 },
 "nbformat": 4,
 "nbformat_minor": 2
}
