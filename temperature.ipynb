{
 "cells": [
  {
   "cell_type": "markdown",
   "metadata": {},
   "source": [
    "# Processor temperature\n",
    "\n",
    "We have a temperature sensor in the processor of our company's server. We want to analyze the data provided to determinate whether we should change the cooling system for a better one. It is expensive and as a data analyst we cannot make decisions without a basis.\n",
    "\n",
    "We provide the temperatures measured throughout the 24 hours of a day in a list-type data structure composed of 24 integers:\n",
    "```\n",
    "temperatures_C = [33,66,65,0,59,60,62,64,70,76,80,69,80,83,68,79,61,53,50,49,53,48,45,39]\n",
    "```\n",
    "\n",
    "## Goals\n",
    "\n",
    "1. Treatment of lists\n",
    "2. Use of loop or list comprenhention\n",
    "3. Calculation of the mean, minimum and maximum.\n",
    "4. Filtering of lists.\n",
    "5. Interpolate an outlier.\n",
    "6. Logical operators.\n",
    "7. Print"
   ]
  },
  {
   "cell_type": "markdown",
   "metadata": {},
   "source": [
    "## Temperature graph\n",
    "To facilitate understanding, the temperature graph is shown below. You do not have to do anything in this section. The test starts in **Problem**."
   ]
  },
  {
   "cell_type": "code",
   "execution_count": 77,
   "metadata": {},
   "outputs": [
    {
     "ename": "ModuleNotFoundError",
     "evalue": "No module named 'matplotlib'",
     "output_type": "error",
     "traceback": [
      "\u001b[0;31m---------------------------------------------------------------------------\u001b[0m",
      "\u001b[0;31mModuleNotFoundError\u001b[0m                       Traceback (most recent call last)",
      "\u001b[0;32m<ipython-input-77-cae5e3202868>\u001b[0m in \u001b[0;36m<module>\u001b[0;34m\u001b[0m\n\u001b[1;32m      1\u001b[0m \u001b[0;31m# import\u001b[0m\u001b[0;34m\u001b[0m\u001b[0;34m\u001b[0m\u001b[0;34m\u001b[0m\u001b[0m\n\u001b[0;32m----> 2\u001b[0;31m \u001b[0;32mimport\u001b[0m \u001b[0mmatplotlib\u001b[0m\u001b[0;34m.\u001b[0m\u001b[0mpyplot\u001b[0m \u001b[0;32mas\u001b[0m \u001b[0mplt\u001b[0m\u001b[0;34m\u001b[0m\u001b[0;34m\u001b[0m\u001b[0m\n\u001b[0m\u001b[1;32m      3\u001b[0m \u001b[0mget_ipython\u001b[0m\u001b[0;34m(\u001b[0m\u001b[0;34m)\u001b[0m\u001b[0;34m.\u001b[0m\u001b[0mrun_line_magic\u001b[0m\u001b[0;34m(\u001b[0m\u001b[0;34m'matplotlib'\u001b[0m\u001b[0;34m,\u001b[0m \u001b[0;34m'inline'\u001b[0m\u001b[0;34m)\u001b[0m\u001b[0;34m\u001b[0m\u001b[0;34m\u001b[0m\u001b[0m\n\u001b[1;32m      4\u001b[0m \u001b[0;34m\u001b[0m\u001b[0m\n\u001b[1;32m      5\u001b[0m \u001b[0;31m# axis x, axis y\u001b[0m\u001b[0;34m\u001b[0m\u001b[0;34m\u001b[0m\u001b[0;34m\u001b[0m\u001b[0m\n",
      "\u001b[0;31mModuleNotFoundError\u001b[0m: No module named 'matplotlib'"
     ]
    }
   ],
   "source": [
    "# import\n",
    "import matplotlib.pyplot as plt\n",
    "%matplotlib inline\n",
    "\n",
    "# axis x, axis y\n",
    "y = [33,66,65,0,59,60,62,64,70,76,80,69,80,83,68,79,61,53,50,49,53,48,45,39]\n",
    "x = list(range(len(y)))\n",
    "\n",
    "# plot\n",
    "plt.plot(x, y)\n",
    "plt.axhline(y=70, linewidth=1, color='r')\n",
    "plt.xlabel('hours')\n",
    "plt.ylabel('Temperature ºC')\n",
    "plt.title('Temperatures of our server throughout the day')"
   ]
  },
  {
   "cell_type": "markdown",
   "metadata": {},
   "source": [
    "## Problem\n",
    "\n",
    "If the sensor detects more than 4 hours with temperatures greater than or equal to 70ºC or any temperature above 80ºC or the average exceeds 65ºC throughout the day, we must give the order to change the cooling system to avoid damaging the processor.\n",
    "\n",
    "We will guide you step by step so you can make the decision by calculating some intermediate steps:\n",
    "\n",
    "1. Minimum temperature\n",
    "2. Maximum temperature\n",
    "3. Temperatures equal to or greater than 70ºC\n",
    "4. Average temperatures throughout the day.\n",
    "5. If there was a sensor failure at 03:00 and we did not capture the data, how would you estimate the value that we lack? Correct that value in the list of temperatures.\n",
    "6. Bonus: Our maintenance staff is from the United States and does not understand the international metric system. Pass temperatures to Degrees Fahrenheit.\n",
    "\n",
    "Formula: F = 1.8 * C + 32\n",
    "\n",
    "web: https://en.wikipedia.org/wiki/Conversion_of_units_of_temperature\n"
   ]
  },
  {
   "cell_type": "code",
   "execution_count": 65,
   "metadata": {},
   "outputs": [
    {
     "name": "stdout",
     "output_type": "stream",
     "text": [
      "The minimum temperature of the list is 0\n",
      "The maximum temperature of the list is 83\n",
      "The temperatures greater than 70ºC are [70, 76, 80, 80, 83, 79]\n",
      "The mean temperature throuughout the day is 29 ºC\n",
      "The estimated temperature is 62.0 ºC\n",
      "List of updated temperatures [33, 66, 65, 62.0, 59, 60, 62, 64, 70, 76, 80, 69, 80, 83, 68, 79, 61, 53, 50, 49, 53, 48, 45, 39]\n",
      "List of temperatures in Fº: [91, 151, 149, 144, 138, 140, 144, 147, 158, 169, 176, 156, 176, 181, 154, 174, 142, 127, 122, 120, 127, 118, 113, 102]\n"
     ]
    }
   ],
   "source": [
    "# assign a variable to the list of temperatures\n",
    "y = [33,66,65,0,59,60,62,64,70,76,80,69,80,83,68,79,61,53,50,49,53,48,45,39]\n",
    "\n",
    "# 1. Calculate the minimum of the list and print the value using print()\n",
    "min_temperature = min(y)\n",
    "print (\"The minimum temperature of the list is\", min_temperature) \n",
    "\n",
    "# 2. Calculate the maximum of the list and print the value using print()\n",
    "max_temperature = max(y)\n",
    "print (\"The maximum temperature of the list is\", max_temperature)\n",
    "\n",
    "# 3. Items in the list that are greater than 70ºC and print the result\n",
    "hot_list = [t for t in y if t>=70]\n",
    "print (\"The temperatures greater than 70ºC are\", str(hot_list))\n",
    "\n",
    "# 4. Calculate the mean temperature throughout the day and print the result\n",
    "mean_temperature = round(sum(y)/len(y)/2)\n",
    "print (\"The mean temperature throuughout the day is\", mean_temperature, \"ºC\")\n",
    "\n",
    "# 5.1 Solve the fault in the sensor by estimating a value\n",
    "t_2 = y[2]\n",
    "t_4 = y[4]\n",
    "t_3 = (t_2 + t_4)/2\n",
    "print (\"The estimated temperature is\", str(t_3), \"ºC\")\n",
    "\n",
    "# 5.2 Update of the estimated value at 03:00 on the list\n",
    "updated_temperature = y\n",
    "updated_temperature.pop(3)\n",
    "updated_temperature.insert(3, t_3)\n",
    "print (\"List of updated temperatures\", updated_temperature)\n",
    "\n",
    "\n",
    "# Bonus: convert the list of ºC to ºFarenheit\n",
    "updated_temperatures = [33, 66, 65, 62.0, 59, 60, 62, 64, 70, 76, 80, 69, 80, 83, 68, 79, 61, 53, 50, 49, 53, 48, 45, 39]\n",
    "temperatures_F = [round(x*1.8 + 32) for x in updated_temperatures]\n",
    "print (\"List of temperatures in Fº:\", temperatures_F)"
   ]
  },
  {
   "cell_type": "markdown",
   "metadata": {},
   "source": [
    "## Take the decision\n",
    "Remember that if the sensor detects more than 4 hours with temperatures greater than or equal to 70ºC or any temperature higher than 80ºC or the average was higher than 65ºC throughout the day, we must give the order to change the cooling system to avoid the danger of damaging the equipment:\n",
    "* more than 4 hours with temperatures greater than or equal to 70ºC\n",
    "* some temperature higher than 80ºC\n",
    "* average was higher than 65ºC throughout the day\n",
    "If any of these three is met, the cooling system must be changed.\n"
   ]
  },
  {
   "cell_type": "code",
   "execution_count": 50,
   "metadata": {},
   "outputs": [
    {
     "name": "stdout",
     "output_type": "stream",
     "text": [
      "Change the cooling system\n"
     ]
    }
   ],
   "source": [
    "# Print True or False depending on whether you would change the cooling system or not\n",
    "updated_temperatures = [33, 66, 65, 62.0, 59, 60, 62, 64, 70, 76, 80, 69, 80, 83, 68, 79, 61, 53, 50, 49, 53, 48, 45, 39]\n",
    "t = 0\n",
    "t_4 = 0\n",
    "t_media = 80\n",
    "t_80 = 0\n",
    "cooling_system= False\n",
    "for t in updated_temperature:\n",
    " if t > 70:\n",
    "    t_4 += 1\n",
    "t_media = sum(updated_temperature)/len(updated_temperature)\n",
    "\n",
    "for t in updated_temperature:\n",
    "    if t > 80:\n",
    "        t_80 += 1\n",
    "if t_4 > 4 or t_media > 65 or t_80 > 1:\n",
    "        cooling_system = True\n",
    "else: \n",
    "    cooling_system = False\n",
    "    \n",
    "if cooling_system == True:\n",
    "    print (\"Change the cooling system\")\n",
    "\n",
    "else:\n",
    "    print (\"The cooling system is working correctly\")"
   ]
  },
  {
   "cell_type": "markdown",
   "metadata": {},
   "source": [
    "## Future improvements\n",
    "1. We want the hours (not the temperatures) whose temperature exceeds 70ºC\n",
    "2. Condition that those hours are more than 4 consecutive and consecutive, not simply the sum of the whole set. Is this condition met?\n",
    "3. Average of each of the lists (ºC and ºF). How they relate?\n",
    "4. Standard deviation of each of the lists. How they relate?\n"
   ]
  },
  {
   "cell_type": "code",
   "execution_count": 52,
   "metadata": {},
   "outputs": [
    {
     "name": "stdout",
     "output_type": "stream",
     "text": [
      "The hours that temperature exceeds 70ºC are: [9, 10, 12, 13, 15]\n"
     ]
    }
   ],
   "source": [
    "# 1. We want the hours (not the temperatures) whose temperature exceeds 70ºC\n",
    "updated_temperatures = [33, 66, 65, 62.0, 59, 60, 62, 64, 70, 76, 80, 69, 80, 83, 68, 79, 61, 53, 50, 49, 53, 48, 45, 39]\n",
    "x = 0\n",
    "y = 0\n",
    "heat_hours = []\n",
    "time = []\n",
    "\n",
    "for i in range (0,24):\n",
    "    time.append(i)\n",
    "    \n",
    "for x,y in zip (time,updated_temperature):\n",
    "    if y > 70:\n",
    "        heat_hours.append(x)\n",
    "print (\"The hours that temperature exceeds 70ºC are:\", heat_hours)\n"
   ]
  },
  {
   "cell_type": "code",
   "execution_count": 82,
   "metadata": {},
   "outputs": [
    {
     "name": "stdout",
     "output_type": "stream",
     "text": [
      "There are not 4 consecutive hours with temperature higher than 70ºC\n",
      "There are not 4 consecutive hours with temperature higher than 70ºC\n",
      "There are not 4 consecutive hours with temperature higher than 70ºC\n",
      "There are not 4 consecutive hours with temperature higher than 70ºC\n",
      "There are not 4 consecutive hours with temperature higher than 70ºC\n",
      "There are not 4 consecutive hours with temperature higher than 70ºC\n",
      "There are not 4 consecutive hours with temperature higher than 70ºC\n",
      "There are not 4 consecutive hours with temperature higher than 70ºC\n",
      "There are not 4 consecutive hours with temperature higher than 70ºC\n",
      "There are not 4 consecutive hours with temperature higher than 70ºC\n",
      "There are not 4 consecutive hours with temperature higher than 70ºC\n",
      "There are not 4 consecutive hours with temperature higher than 70ºC\n",
      "There are not 4 consecutive hours with temperature higher than 70ºC\n",
      "There are not 4 consecutive hours with temperature higher than 70ºC\n",
      "There are not 4 consecutive hours with temperature higher than 70ºC\n",
      "There are not 4 consecutive hours with temperature higher than 70ºC\n",
      "There are not 4 consecutive hours with temperature higher than 70ºC\n",
      "There are not 4 consecutive hours with temperature higher than 70ºC\n",
      "There are not 4 consecutive hours with temperature higher than 70ºC\n"
     ]
    }
   ],
   "source": [
    "# 2. Condition that those hours are more than 4 consecutive and consecutive, not simply the sum of the whole set. Is this condition met?\n",
    "in_row = 0\n",
    "time = []\n",
    "updated_temperatures = [33, 66, 65, 62.0, 59, 60, 62, 64, 70, 76, 80, 69, 80, 83, 68, 79, 61, 53, 50, 49, 53, 48, 45, 39]\n",
    "x = 0\n",
    "y = 0\n",
    "\n",
    "for y in updated_temperature:\n",
    "    if in_row > 4:\n",
    "        print (\"Four or more temperatures were over 70ºC in a row\")\n",
    "    elif y > 70:\n",
    "        in_row +=1 \n",
    "    else:\n",
    "        in_row = 0\n",
    "        print (\"There are not 4 consecutive hours with temperature higher than 70ºC\")\n"
   ]
  },
  {
   "cell_type": "code",
   "execution_count": 73,
   "metadata": {},
   "outputs": [
    {
     "name": "stdout",
     "output_type": "stream",
     "text": [
      "The relation between the average of temperatures in Celsius and Fahrenheit is 0.43\n"
     ]
    }
   ],
   "source": [
    "# 3. Average of each of the lists (ºC and ºF). How they relate?\n",
    "temperatures_C = [33, 66, 65, 62.0, 59, 60, 62, 64, 70, 76, 80, 69, 80, 83, 68, 79, 61, 53, 50, 49, 53, 48, 45, 39]\n",
    "temperatures_F = [91, 151, 149, 144, 138, 140, 144, 147, 158, 169, 176, 156, 176, 181, 154, 174, 142, 127, 122, 120, 127, 118, 113, 102]\n",
    "\n",
    "average_C = sum(temperatures_C)/len(temperatures_C)\n",
    "average_F = sum(temperatures_F)/len(temperatures_F)\n",
    "\n",
    "relation_average = average_C / average_F\n",
    "\n",
    "print (\"The relation between the average of temperatures in Celsius and Fahrenheit is\", str(round(relation_average,2)))"
   ]
  },
  {
   "cell_type": "code",
   "execution_count": 76,
   "metadata": {},
   "outputs": [
    {
     "name": "stdout",
     "output_type": "stream",
     "text": [
      "The relation between the standard deviation of temperatures in Celsius and Fahrenheit is 0.55\n"
     ]
    }
   ],
   "source": [
    "# 4. Standard deviation of each of the lists. How they relate?\n",
    "import math as m\n",
    "temperatures_C = [33, 66, 65, 62.0, 59, 60, 62, 64, 70, 76, 80, 69, 80, 83, 68, 79, 61, 53, 50, 49, 53, 48, 45, 39]\n",
    "temperatures_F = [91, 151, 149, 144, 138, 140, 144, 147, 158, 169, 176, 156, 176, 181, 154, 174, 142, 127, 122, 120, 127, 118, 113, 102]\n",
    "average_C = sum(temperatures_C)/len(temperatures_C)\n",
    "average_F = sum(temperatures_F)/len(temperatures_F)\n",
    "relation_desv = 0\n",
    "d = 0\n",
    "desv_C = 0\n",
    "desv_F = 0\n",
    "\n",
    "for d in temperatures_C:\n",
    "    desv_C = m.sqrt((d-average_C)**2/len(temperatures_C))\n",
    "\n",
    "for d in temperatures_F:\n",
    "    desv_F = m.sqrt((d-average_F)**2/len(temperatures_F))\n",
    "\n",
    "relation_desv = round(desv_C/desv_F,2)\n",
    "\n",
    "print (\"The relation between the standard deviation of temperatures in Celsius and Fahrenheit is\", relation_desv)"
   ]
  }
 ],
 "metadata": {
  "kernelspec": {
   "display_name": "Python 3",
   "language": "python",
   "name": "python3"
  },
  "language_info": {
   "codemirror_mode": {
    "name": "ipython",
    "version": 3
   },
   "file_extension": ".py",
   "mimetype": "text/x-python",
   "name": "python",
   "nbconvert_exporter": "python",
   "pygments_lexer": "ipython3",
   "version": "3.8.5"
  }
 },
 "nbformat": 4,
 "nbformat_minor": 2
}
